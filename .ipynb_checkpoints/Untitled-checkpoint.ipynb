{
 "cells": [
  {
   "cell_type": "markdown",
   "metadata": {},
   "source": [
    "# ĐACK: Dự đoán doanh thu phòng vé của phim chiếu rạp\n",
    "\n",
    "1712811 - Lê Trung Tiến \\\n",
    "1712742 - Nguyễn Tấn Tài"
   ]
  },
  {
   "cell_type": "markdown",
   "metadata": {},
   "source": [
    "## Thu thập dữ liệu"
   ]
  },
  {
   "cell_type": "code",
   "execution_count": 15,
   "metadata": {},
   "outputs": [
    {
     "ename": "ModuleNotFoundError",
     "evalue": "No module named 'grequests'",
     "output_type": "error",
     "traceback": [
      "\u001b[0;31m---------------------------------------------------------------------------\u001b[0m",
      "\u001b[0;31mModuleNotFoundError\u001b[0m                       Traceback (most recent call last)",
      "\u001b[0;32m<ipython-input-15-98c58187da89>\u001b[0m in \u001b[0;36m<module>\u001b[0;34m\u001b[0m\n\u001b[1;32m      2\u001b[0m \u001b[0;32mimport\u001b[0m \u001b[0mpandas\u001b[0m \u001b[0;32mas\u001b[0m \u001b[0mpd\u001b[0m\u001b[0;34m\u001b[0m\u001b[0;34m\u001b[0m\u001b[0m\n\u001b[1;32m      3\u001b[0m \u001b[0;32mimport\u001b[0m \u001b[0masyncio\u001b[0m\u001b[0;34m\u001b[0m\u001b[0;34m\u001b[0m\u001b[0m\n\u001b[0;32m----> 4\u001b[0;31m \u001b[0;32mfrom\u001b[0m \u001b[0mgrequests\u001b[0m \u001b[0;32mimport\u001b[0m \u001b[0masyncc\u001b[0m\u001b[0;34m\u001b[0m\u001b[0;34m\u001b[0m\u001b[0m\n\u001b[0m",
      "\u001b[0;31mModuleNotFoundError\u001b[0m: No module named 'grequests'"
     ]
    }
   ],
   "source": [
    "# import requests\n",
    "# import pandas as pd\n",
    "# import asyncio\n",
    "# from grequests import asyncc"
   ]
  },
  {
   "cell_type": "code",
   "execution_count": null,
   "metadata": {},
   "outputs": [],
   "source": [
    "async def fetch(session, url):\n",
    "    \"\"\"Execute an http call async\n",
    "    Args:\n",
    "        session: contexte for making the http call\n",
    "        url: URL to call\n",
    "    Return:\n",
    "        responses: A dict like object containing http response\n",
    "    \"\"\"\n",
    "    async with session.get(url) as response:\n",
    "        resp = await response.json()\n",
    "        return resp\n",
    "\n",
    "async def fetch_all(cities):\n",
    "    \"\"\" Gather many HTTP call made async\n",
    "    Args:\n",
    "        cities: a list of string \n",
    "    Return:\n",
    "        responses: A list of dict like object containing http response\n",
    "    \"\"\"\n",
    "    async with aiohttp.ClientSession() as session:\n",
    "        tasks = []\n",
    "        for city in cities:\n",
    "            tasks.append(\n",
    "                fetch(\n",
    "                    session,\n",
    "                    f\"https://geo.api.gouv.fr/communes?nom={city}&fields=nom,region&format=json&geometry=centr\",\n",
    "                )\n",
    "            )\n",
    "        responses = await asyncio.gather(*tasks, return_exceptions=True)\n",
    "        return responses\n",
    "@timeit\n",
    "def run(cities):\n",
    "    responses = asyncio.run(fetch_all(cities))\n",
    "    return responses"
   ]
  },
  {
   "cell_type": "code",
   "execution_count": null,
   "metadata": {},
   "outputs": [],
   "source": [
    "data"
   ]
  },
  {
   "cell_type": "code",
   "execution_count": null,
   "metadata": {},
   "outputs": [],
   "source": []
  }
 ],
 "metadata": {
  "kernelspec": {
   "display_name": "Python 3",
   "language": "python",
   "name": "python3"
  },
  "language_info": {
   "codemirror_mode": {
    "name": "ipython",
    "version": 3
   },
   "file_extension": ".py",
   "mimetype": "text/x-python",
   "name": "python",
   "nbconvert_exporter": "python",
   "pygments_lexer": "ipython3",
   "version": "3.8.3"
  }
 },
 "nbformat": 4,
 "nbformat_minor": 4
}
